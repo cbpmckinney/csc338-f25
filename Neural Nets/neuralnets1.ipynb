{
 "cells": [
  {
   "cell_type": "code",
   "execution_count": null,
   "id": "2dc2e4d4",
   "metadata": {},
   "outputs": [
    {
     "name": "stderr",
     "output_type": "stream",
     "text": [
      "2025-10-08 09:46:56.847088: I tensorflow/core/util/port.cc:153] oneDNN custom operations are on. You may see slightly different numerical results due to floating-point round-off errors from different computation orders. To turn them off, set the environment variable `TF_ENABLE_ONEDNN_OPTS=0`.\n",
      "2025-10-08 09:46:56.860001: E external/local_xla/xla/stream_executor/cuda/cuda_fft.cc:477] Unable to register cuFFT factory: Attempting to register factory for plugin cuFFT when one has already been registered\n",
      "WARNING: All log messages before absl::InitializeLog() is called are written to STDERR\n",
      "E0000 00:00:1759931216.874786  305213 cuda_dnn.cc:8310] Unable to register cuDNN factory: Attempting to register factory for plugin cuDNN when one has already been registered\n",
      "E0000 00:00:1759931216.877521  305213 cuda_blas.cc:1418] Unable to register cuBLAS factory: Attempting to register factory for plugin cuBLAS when one has already been registered\n",
      "2025-10-08 09:46:56.893321: I tensorflow/core/platform/cpu_feature_guard.cc:210] This TensorFlow binary is optimized to use available CPU instructions in performance-critical operations.\n",
      "To enable the following instructions: SSE4.1 SSE4.2 AVX AVX2 AVX512F AVX512_VNNI AVX512_BF16 FMA, in other operations, rebuild TensorFlow with the appropriate compiler flags.\n"
     ]
    }
   ],
   "source": [
    "import numpy as np\n",
    "import tensorflow as tf\n",
    "import math\n",
    "import random\n",
    "from matplotlib import pyplot as plt\n",
    "\n",
    "\n",
    "def sigmoid(x):\n",
    "    return 1/(1+math.exp(-x))\n",
    "\n",
    "def sigmoidderivative(x):\n",
    "    return sigmoid(x) * (1-sigmoid(x))\n",
    "\n",
    "vec_sigmoid = np.vectorize(sigmoid)\n",
    "vec_sigmoidderivative = np.vectorize(sigmoidderivative)\n",
    "\n",
    "RNG = np.random.default_rng()\n"
   ]
  },
  {
   "cell_type": "code",
   "execution_count": null,
   "id": "1bdb68e1",
   "metadata": {},
   "outputs": [],
   "source": [
    "\n",
    "\n",
    "class NeuralNetworkLayer:\n",
    "\n",
    "    def __init__(self, numinputs:int, numoutputs:int, activation=None, errorfunc=None):\n",
    "\n",
    "        global RNG\n",
    "        self.numinputs = numinputs\n",
    "        self.numoutputs = numoutputs\n",
    "        self.activation = activation\n",
    "        self.errorfunc = errorfunc\n",
    "\n",
    "\n",
    "        self.weights = RNG.random((self.numoutputs, self.numinputs + 1))\n",
    "\n",
    "    \n",
    "    def evaluate(self, inputs):\n",
    "\n",
    "        inputs = np.append(inputs, np.array([1]))\n",
    "    \n",
    "        outputs = self.weights @ inputs # this is \\vec{h}\n",
    "\n",
    "        if self.activation == \"Sigmoid\":\n",
    "            outputs = vec_sigmoid(outputs)\n",
    "\n",
    "        return outputs\n",
    "\n",
    "    def computeError(self, outputs, truevalues):\n",
    "\n",
    "        if self.errorfunc == \"MSE\":\n",
    "\n",
    "            acc = 0\n",
    "            n = outputs.shape[0]\n",
    "            for i in range(n):\n",
    "                acc = acc + (outputs[i]-truevalues[i])**2\n",
    "\n",
    "            return acc/(2*n)\n",
    "        \n",
    "    def computeGradient(self, inputs):\n",
    "\n",
    "        dzdh \n",
    "        dl\n",
    "    \n",
    "\n",
    "        "
   ]
  },
  {
   "cell_type": "code",
   "execution_count": null,
   "id": "98431f6f",
   "metadata": {},
   "outputs": [],
   "source": [
    "MyNN = NeuralNetworkLayer(2,2, \"Sigmoid\", \"MSE\")\n",
    "\n",
    "myInputs = np.array([1,2])\n"
   ]
  },
  {
   "cell_type": "code",
   "execution_count": 55,
   "id": "f4ad3bfd",
   "metadata": {},
   "outputs": [
    {
     "name": "stdout",
     "output_type": "stream",
     "text": [
      "[2.10344482 3.07364372]\n",
      "0.9200274462651267\n"
     ]
    }
   ],
   "source": [
    "myInputs2 = np.append(myInputs, np.array([1]))\n",
    "outs2 = MyNN.weights @ myInputs2\n",
    "print(outs2)\n",
    "\n",
    "\n",
    "print(sigmoid(2.442720005))\n",
    "\n",
    "outs3= MyNN.evaluate(myInputs)\n",
    "MyNN.computeError(outs3, np.array([0,1]))"
   ]
  },
  {
   "cell_type": "code",
   "execution_count": null,
   "id": "9f886ed8",
   "metadata": {},
   "outputs": [],
   "source": []
  }
 ],
 "metadata": {
  "kernelspec": {
   "display_name": "mlbase",
   "language": "python",
   "name": "python3"
  },
  "language_info": {
   "codemirror_mode": {
    "name": "ipython",
    "version": 3
   },
   "file_extension": ".py",
   "mimetype": "text/x-python",
   "name": "python",
   "nbconvert_exporter": "python",
   "pygments_lexer": "ipython3",
   "version": "3.12.11"
  }
 },
 "nbformat": 4,
 "nbformat_minor": 5
}
