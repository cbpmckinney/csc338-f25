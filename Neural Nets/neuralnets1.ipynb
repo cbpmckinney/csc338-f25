{
 "cells": [
  {
   "cell_type": "code",
   "execution_count": 11,
   "id": "2dc2e4d4",
   "metadata": {},
   "outputs": [],
   "source": [
    "import numpy as np\n",
    "import tensorflow as tf\n",
    "import math\n",
    "import random\n",
    "from matplotlib import pyplot as plt\n",
    "\n",
    "\n",
    "def sigmoid(x):\n",
    "    return 1/(1+math.exp(-x))\n",
    "\n",
    "vec_sigmoid = np.vectorize(sigmoid)\n",
    "\n",
    "\n",
    "RNG = np.random.default_rng()\n"
   ]
  },
  {
   "cell_type": "code",
   "execution_count": 51,
   "id": "1bdb68e1",
   "metadata": {},
   "outputs": [],
   "source": [
    "\n",
    "\n",
    "class NeuralNetworkLayer:\n",
    "\n",
    "    def __init__(self, numinputs:int, numoutputs:int, activation=None, errorfunc=None):\n",
    "\n",
    "        global RNG\n",
    "        self.numinputs = numinputs\n",
    "        self.numoutputs = numoutputs\n",
    "        self.activation = activation\n",
    "        self.errorfunc = errorfunc\n",
    "\n",
    "\n",
    "        self.weights = RNG.random((self.numoutputs, self.numinputs + 1))\n",
    "\n",
    "    \n",
    "    def evaluate(self, inputs):\n",
    "\n",
    "        inputs = np.append(inputs, np.array([1]))\n",
    "    \n",
    "        outputs = self.weights @ inputs # this is \\vec{h}\n",
    "\n",
    "        if self.activation == \"Sigmoid\":\n",
    "            outputs = vec_sigmoid(outputs)\n",
    "\n",
    "        return outputs\n",
    "\n",
    "    def computeError(self, outputs, truevalues):\n",
    "\n",
    "        if self.errorfunc == \"MSE\":\n",
    "\n",
    "            acc = 0\n",
    "            n = outputs.shape[0]\n",
    "            for i in range(n):\n",
    "                acc = acc + (outputs[i]-truevalues[i])**2\n",
    "\n",
    "            return acc/(2*n)\n",
    "        \n"
   ]
  },
  {
   "cell_type": "code",
   "execution_count": 54,
   "id": "98431f6f",
   "metadata": {},
   "outputs": [
    {
     "data": {
      "text/plain": [
       "array([[0.13681173, 0.80575315, 0.35512679],\n",
       "       [0.85748779, 0.66741745, 0.88132103]])"
      ]
     },
     "execution_count": 54,
     "metadata": {},
     "output_type": "execute_result"
    }
   ],
   "source": [
    "MyNN = NeuralNetworkLayer(2,2, \"Sigmoid\", None)\n",
    "\n",
    "myInputs = np.array([1,2])\n",
    "\n",
    "MyNN.weights"
   ]
  },
  {
   "cell_type": "code",
   "execution_count": 55,
   "id": "f4ad3bfd",
   "metadata": {},
   "outputs": [
    {
     "name": "stdout",
     "output_type": "stream",
     "text": [
      "[2.10344482 3.07364372]\n",
      "0.9200274462651267\n"
     ]
    }
   ],
   "source": [
    "myInputs2 = np.append(myInputs, np.array([1]))\n",
    "outs2 = MyNN.weights @ myInputs2\n",
    "print(outs2)\n",
    "\n",
    "\n",
    "print(sigmoid(2.442720005))\n",
    "\n",
    "outs3= MyNN.evaluate(myInputs)\n",
    "MyNN.computeError(outs3, np.array([0,1]))"
   ]
  },
  {
   "cell_type": "code",
   "execution_count": 32,
   "id": "93d9e9b8",
   "metadata": {},
   "outputs": [
    {
     "name": "stdout",
     "output_type": "stream",
     "text": [
      "[1 2]\n"
     ]
    }
   ],
   "source": [
    "arr1 = np.array([1,2])\n",
    "print(arr1)"
   ]
  },
  {
   "cell_type": "code",
   "execution_count": 46,
   "id": "739ebe9b",
   "metadata": {},
   "outputs": [
    {
     "data": {
      "text/plain": [
       "2"
      ]
     },
     "execution_count": 46,
     "metadata": {},
     "output_type": "execute_result"
    }
   ],
   "source": [
    "np.append(arr1,[3])\n",
    "arr1.shape[0]"
   ]
  },
  {
   "cell_type": "code",
   "execution_count": null,
   "id": "313d58ec",
   "metadata": {},
   "outputs": [],
   "source": []
  }
 ],
 "metadata": {
  "kernelspec": {
   "display_name": "mlbase",
   "language": "python",
   "name": "python3"
  },
  "language_info": {
   "codemirror_mode": {
    "name": "ipython",
    "version": 3
   },
   "file_extension": ".py",
   "mimetype": "text/x-python",
   "name": "python",
   "nbconvert_exporter": "python",
   "pygments_lexer": "ipython3",
   "version": "3.12.11"
  }
 },
 "nbformat": 4,
 "nbformat_minor": 5
}
